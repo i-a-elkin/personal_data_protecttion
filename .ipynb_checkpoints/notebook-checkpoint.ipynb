{
 "cells": [
  {
   "cell_type": "markdown",
   "id": "8f8268e2-d516-4955-b8a2-0e398631e1b8",
   "metadata": {
    "id": "bA5ajAmk7XH6",
    "tags": []
   },
   "source": [
    "# Защита персональных данных клиентов"
   ]
  },
  {
   "cell_type": "markdown",
   "id": "97331ced-a238-4825-936f-90c7461be66d",
   "metadata": {},
   "source": [
    "Вам нужно защитить данные клиентов страховой компании «Хоть потоп». Разработайте такой метод преобразования данных, чтобы по ним было сложно восстановить персональную информацию. Обоснуйте корректность его работы.\n",
    "\n",
    "Нужно защитить данные, чтобы при преобразовании качество моделей машинного обучения не ухудшилось. Подбирать наилучшую модель не требуется."
   ]
  },
  {
   "cell_type": "markdown",
   "id": "94121c9b-285d-4ec2-b11f-6006586a2862",
   "metadata": {},
   "source": [
    "## Загрузка данных"
   ]
  },
  {
   "cell_type": "markdown",
   "id": "8f5a3b95-077d-44da-add7-83e4fc97215e",
   "metadata": {},
   "source": [
    "Импортируем необходимые модули."
   ]
  },
  {
   "cell_type": "code",
   "execution_count": 1,
   "id": "d8a2cecc-7a7f-419a-aedd-a4d9ea06394c",
   "metadata": {},
   "outputs": [],
   "source": [
    "import pandas as pd\n",
    "import numpy as np\n",
    "from sklearn.linear_model import LinearRegression\n",
    "from sklearn.metrics import r2_score"
   ]
  },
  {
   "cell_type": "markdown",
   "id": "691d8e94-84b9-4a1b-b179-86e6f85fd6e9",
   "metadata": {},
   "source": [
    "Введем константы."
   ]
  },
  {
   "cell_type": "code",
   "execution_count": 2,
   "id": "8f976de3-c7df-4939-b102-f61aa7f634f1",
   "metadata": {},
   "outputs": [],
   "source": [
    "SEED = 1505"
   ]
  },
  {
   "cell_type": "markdown",
   "id": "9ad3331c-86c8-4782-8b64-981445d5cf47",
   "metadata": {},
   "source": [
    "Загрузим данные."
   ]
  },
  {
   "cell_type": "code",
   "execution_count": 3,
   "id": "54062bd6-d0e3-4d9c-948b-fc6b65218f83",
   "metadata": {
    "scrolled": true
   },
   "outputs": [
    {
     "data": {
      "text/html": [
       "<div>\n",
       "<style scoped>\n",
       "    .dataframe tbody tr th:only-of-type {\n",
       "        vertical-align: middle;\n",
       "    }\n",
       "\n",
       "    .dataframe tbody tr th {\n",
       "        vertical-align: top;\n",
       "    }\n",
       "\n",
       "    .dataframe thead th {\n",
       "        text-align: right;\n",
       "    }\n",
       "</style>\n",
       "<table border=\"1\" class=\"dataframe\">\n",
       "  <thead>\n",
       "    <tr style=\"text-align: right;\">\n",
       "      <th></th>\n",
       "      <th>Пол</th>\n",
       "      <th>Возраст</th>\n",
       "      <th>Зарплата</th>\n",
       "      <th>Члены семьи</th>\n",
       "      <th>Страховые выплаты</th>\n",
       "    </tr>\n",
       "  </thead>\n",
       "  <tbody>\n",
       "    <tr>\n",
       "      <th>0</th>\n",
       "      <td>1</td>\n",
       "      <td>41.0</td>\n",
       "      <td>49600.0</td>\n",
       "      <td>1</td>\n",
       "      <td>0</td>\n",
       "    </tr>\n",
       "    <tr>\n",
       "      <th>1</th>\n",
       "      <td>0</td>\n",
       "      <td>46.0</td>\n",
       "      <td>38000.0</td>\n",
       "      <td>1</td>\n",
       "      <td>1</td>\n",
       "    </tr>\n",
       "    <tr>\n",
       "      <th>2</th>\n",
       "      <td>0</td>\n",
       "      <td>29.0</td>\n",
       "      <td>21000.0</td>\n",
       "      <td>0</td>\n",
       "      <td>0</td>\n",
       "    </tr>\n",
       "    <tr>\n",
       "      <th>3</th>\n",
       "      <td>0</td>\n",
       "      <td>21.0</td>\n",
       "      <td>41700.0</td>\n",
       "      <td>2</td>\n",
       "      <td>0</td>\n",
       "    </tr>\n",
       "    <tr>\n",
       "      <th>4</th>\n",
       "      <td>1</td>\n",
       "      <td>28.0</td>\n",
       "      <td>26100.0</td>\n",
       "      <td>0</td>\n",
       "      <td>0</td>\n",
       "    </tr>\n",
       "  </tbody>\n",
       "</table>\n",
       "</div>"
      ],
      "text/plain": [
       "   Пол  Возраст  Зарплата  Члены семьи  Страховые выплаты\n",
       "0    1     41.0   49600.0            1                  0\n",
       "1    0     46.0   38000.0            1                  1\n",
       "2    0     29.0   21000.0            0                  0\n",
       "3    0     21.0   41700.0            2                  0\n",
       "4    1     28.0   26100.0            0                  0"
      ]
     },
     "metadata": {},
     "output_type": "display_data"
    },
    {
     "name": "stdout",
     "output_type": "stream",
     "text": [
      "Размер датасета: (5000, 5)\n",
      "<class 'pandas.core.frame.DataFrame'>\n",
      "RangeIndex: 5000 entries, 0 to 4999\n",
      "Data columns (total 5 columns):\n",
      " #   Column             Non-Null Count  Dtype  \n",
      "---  ------             --------------  -----  \n",
      " 0   Пол                5000 non-null   int64  \n",
      " 1   Возраст            5000 non-null   float64\n",
      " 2   Зарплата           5000 non-null   float64\n",
      " 3   Члены семьи        5000 non-null   int64  \n",
      " 4   Страховые выплаты  5000 non-null   int64  \n",
      "dtypes: float64(2), int64(3)\n",
      "memory usage: 195.4 KB\n"
     ]
    },
    {
     "data": {
      "text/plain": [
       "None"
      ]
     },
     "metadata": {},
     "output_type": "display_data"
    },
    {
     "data": {
      "text/html": [
       "<div>\n",
       "<style scoped>\n",
       "    .dataframe tbody tr th:only-of-type {\n",
       "        vertical-align: middle;\n",
       "    }\n",
       "\n",
       "    .dataframe tbody tr th {\n",
       "        vertical-align: top;\n",
       "    }\n",
       "\n",
       "    .dataframe thead th {\n",
       "        text-align: right;\n",
       "    }\n",
       "</style>\n",
       "<table border=\"1\" class=\"dataframe\">\n",
       "  <thead>\n",
       "    <tr style=\"text-align: right;\">\n",
       "      <th></th>\n",
       "      <th>Пол</th>\n",
       "      <th>Возраст</th>\n",
       "      <th>Зарплата</th>\n",
       "      <th>Члены семьи</th>\n",
       "      <th>Страховые выплаты</th>\n",
       "    </tr>\n",
       "  </thead>\n",
       "  <tbody>\n",
       "    <tr>\n",
       "      <th>count</th>\n",
       "      <td>5000.000000</td>\n",
       "      <td>5000.000000</td>\n",
       "      <td>5000.000000</td>\n",
       "      <td>5000.000000</td>\n",
       "      <td>5000.000000</td>\n",
       "    </tr>\n",
       "    <tr>\n",
       "      <th>mean</th>\n",
       "      <td>0.499000</td>\n",
       "      <td>30.952800</td>\n",
       "      <td>39916.360000</td>\n",
       "      <td>1.194200</td>\n",
       "      <td>0.148000</td>\n",
       "    </tr>\n",
       "    <tr>\n",
       "      <th>std</th>\n",
       "      <td>0.500049</td>\n",
       "      <td>8.440807</td>\n",
       "      <td>9900.083569</td>\n",
       "      <td>1.091387</td>\n",
       "      <td>0.463183</td>\n",
       "    </tr>\n",
       "    <tr>\n",
       "      <th>min</th>\n",
       "      <td>0.000000</td>\n",
       "      <td>18.000000</td>\n",
       "      <td>5300.000000</td>\n",
       "      <td>0.000000</td>\n",
       "      <td>0.000000</td>\n",
       "    </tr>\n",
       "    <tr>\n",
       "      <th>25%</th>\n",
       "      <td>0.000000</td>\n",
       "      <td>24.000000</td>\n",
       "      <td>33300.000000</td>\n",
       "      <td>0.000000</td>\n",
       "      <td>0.000000</td>\n",
       "    </tr>\n",
       "    <tr>\n",
       "      <th>50%</th>\n",
       "      <td>0.000000</td>\n",
       "      <td>30.000000</td>\n",
       "      <td>40200.000000</td>\n",
       "      <td>1.000000</td>\n",
       "      <td>0.000000</td>\n",
       "    </tr>\n",
       "    <tr>\n",
       "      <th>75%</th>\n",
       "      <td>1.000000</td>\n",
       "      <td>37.000000</td>\n",
       "      <td>46600.000000</td>\n",
       "      <td>2.000000</td>\n",
       "      <td>0.000000</td>\n",
       "    </tr>\n",
       "    <tr>\n",
       "      <th>max</th>\n",
       "      <td>1.000000</td>\n",
       "      <td>65.000000</td>\n",
       "      <td>79000.000000</td>\n",
       "      <td>6.000000</td>\n",
       "      <td>5.000000</td>\n",
       "    </tr>\n",
       "  </tbody>\n",
       "</table>\n",
       "</div>"
      ],
      "text/plain": [
       "               Пол      Возраст      Зарплата  Члены семьи  Страховые выплаты\n",
       "count  5000.000000  5000.000000   5000.000000  5000.000000        5000.000000\n",
       "mean      0.499000    30.952800  39916.360000     1.194200           0.148000\n",
       "std       0.500049     8.440807   9900.083569     1.091387           0.463183\n",
       "min       0.000000    18.000000   5300.000000     0.000000           0.000000\n",
       "25%       0.000000    24.000000  33300.000000     0.000000           0.000000\n",
       "50%       0.000000    30.000000  40200.000000     1.000000           0.000000\n",
       "75%       1.000000    37.000000  46600.000000     2.000000           0.000000\n",
       "max       1.000000    65.000000  79000.000000     6.000000           5.000000"
      ]
     },
     "execution_count": 3,
     "metadata": {},
     "output_type": "execute_result"
    }
   ],
   "source": [
    "df = pd.read_csv(\"datasets/insurance.csv\")\n",
    "display(df.head())\n",
    "print(\"Размер датасета:\", df.shape)\n",
    "display(df.info())\n",
    "df.describe()"
   ]
  },
  {
   "cell_type": "markdown",
   "id": "885f3543-f56f-48a9-9945-31830ec8ab9e",
   "metadata": {},
   "source": [
    "## Умножение матриц"
   ]
  },
  {
   "cell_type": "markdown",
   "id": "f42f1179-c2b9-4530-8dd0-afef4790cee1",
   "metadata": {},
   "source": [
    "Обозначения:\n",
    "\n",
    "- $X$ — матрица признаков (нулевой столбец состоит из единиц)\n",
    "\n",
    "- $y$ — вектор целевого признака\n",
    "\n",
    "- $P$ — матрица, на которую умножаются признаки\n",
    "\n",
    "- $w$ — вектор весов (коэффициентов) линейной регрессии (нулевой элемент равен сдвигу)"
   ]
  },
  {
   "cell_type": "markdown",
   "id": "262190ae-2fe5-4e4e-8609-4ceb549e6771",
   "metadata": {},
   "source": [
    "Для того чтобы зашифровать личные данные клиентов необходимо преобразовать левую часть исходного уравнения линейной регрессии \n",
    "\n",
    "$$\n",
    "Xw = y\n",
    "$$\n",
    "\n",
    "для этого умножим исходную матрицу признаков на кодирующую матрицу $P$ (квадратная матрица, размер которой равен количеству столбцов в $X$)\n",
    "\n",
    "$$\n",
    "(XP)w_p = y\n",
    "$$\n",
    "\n",
    "При этом изменится вектор целевого признака так, чтобы сохранялось равенство \n",
    "\n",
    "$$\n",
    "(XP)w_p = Xw = y\n",
    "$$\n",
    "\n",
    "Декодирование данных осуществляется умножение на обратную кодирующую матрицу $P^{-1}$\n",
    "\n",
    "$$\n",
    "X = (XP) P^{-1} = XE = X\n",
    "$$\n",
    "\n",
    "По этой причине кодирующая матрица должна быть обратима, в противном случае не удастся восстановить исходные данные.\n",
    "\n",
    "Задача обучения линейной регрессии формулирует следующим образом:\n",
    "\n",
    "$$\n",
    "w = \\underset{w}{\\arg\\min} MSE(Xw, y)\n",
    "$$\n",
    "\n",
    "Для нахождения метрики $R^2$ необходимо найти минимум функции $MSE(Xw, y)$ до и после шифрования данных, но поскольку $Xw$ до шифрования равен $(XP)w_p$ после шифрования, а вектор целевого признака остается неизменным, то метрики до и после шифрования будут равны, но при этом изменится вектор весов линейной регрессии."
   ]
  },
  {
   "cell_type": "markdown",
   "id": "9412e0e4-cb99-4a4c-b7f4-66ea58e5a455",
   "metadata": {},
   "source": [
    "Покажем как изменится вектор весов линейной регрессии в результате шифрования данных. \n",
    "\n",
    "Вектор коэффициентов в формуле обучения исходного уравнения имеет следующий вид:\n",
    "\n",
    "$$\n",
    "w = (X^T X)^{-1} X^T y\n",
    "$$\n",
    "\n",
    "После умножения левой части исходного уравнения линейной регрессии на кодирующую матрицу, вектор коэффициентов примет следующий вид:\n",
    "\n",
    "$$\n",
    "w_p = \\Bigl((XP)^T (XP)\\Bigr)^{-1} (XP)^T y \n",
    "$$\n",
    "\n",
    "Преобразуем данное выражение:\n",
    "\n",
    "$$\n",
    "w_p = \\Bigl(P^T (X^T XP)\\Bigr)^{-1} (XP)^T y = \\Bigl((X^T X) P\\Bigr)^{-1} (P^T)^{-1} P^T X^T y\n",
    "$$\n",
    "\n",
    "$$\n",
    "= P^{-1} (X^T X)^{-1} E X^T y = P^{-1} w\n",
    "$$\n",
    "\n",
    "Можно видеть, что\n",
    "\n",
    "$$\n",
    "w = P w_p\n",
    "$$\n",
    "\n",
    "Для того чтобы из коэффициентов линейной регрессии, полученной на зашифрованных данных, получить коэффиценты для исходных данных необходимо умножить их на кодирующую матрицу."
   ]
  },
  {
   "cell_type": "markdown",
   "id": "71177e8b-0017-4f64-abdd-606601e20383",
   "metadata": {},
   "source": [
    "## Алгоритм преобразования"
   ]
  },
  {
   "cell_type": "markdown",
   "id": "6d9a8a7a-b844-4a2a-acec-79a881c432a5",
   "metadata": {},
   "source": [
    "Создадим класс для шифрования и дешифровки данных."
   ]
  },
  {
   "cell_type": "code",
   "execution_count": 4,
   "id": "a023289e-5e98-46a1-829b-0437b9d0e090",
   "metadata": {},
   "outputs": [],
   "source": [
    "class Encryption:\n",
    "    def encrypt(self, X, random_seed=None):\n",
    "        try:\n",
    "            np.random.seed(random_seed)\n",
    "            self.P = np.random.normal(size=(X.shape[1], X.shape[1]))\n",
    "            self.P_inv = np.linalg.inv(self.P)\n",
    "            self.X_encr = X @ self.P\n",
    "        except np.linalg.LinAlgError:\n",
    "            print('Кодирующая матрица является вырожденной')\n",
    "    def decrypt(self, X):\n",
    "        self.X_decr = self.X_encr @ self.P_inv"
   ]
  },
  {
   "cell_type": "markdown",
   "id": "449462f2-5bf5-4171-8b1b-0cf5c4e9c060",
   "metadata": {},
   "source": [
    "Создадим необходимые нам матрицы."
   ]
  },
  {
   "cell_type": "code",
   "execution_count": 5,
   "id": "bee4c02b-d5c4-41ad-ad95-e02d32abbec4",
   "metadata": {},
   "outputs": [],
   "source": [
    "X = df.drop(columns=['Страховые выплаты']).values.astype('int')\n",
    "# добавим нулевой столбец, состоящий из единиц\n",
    "X = np.insert(X, 0, 1, axis=1)\n",
    "\n",
    "y = df['Страховые выплаты'].values"
   ]
  },
  {
   "cell_type": "markdown",
   "id": "ec9ef4dc-bce9-4255-b982-23a7bdfa5a3d",
   "metadata": {},
   "source": [
    "Зашифруем матрицу признаков и вектор целевого признака, после этого расшифруем их."
   ]
  },
  {
   "cell_type": "code",
   "execution_count": 6,
   "id": "ccbe415b-0583-4df0-b72c-49e40adbd37f",
   "metadata": {},
   "outputs": [
    {
     "name": "stdout",
     "output_type": "stream",
     "text": [
      "Размер матрицы признаков до и после шифрования: (5000, 5) (5000, 5)\n",
      "Доля совпадений после дешифровки матрицы признаков: 1.0\n"
     ]
    }
   ],
   "source": [
    "coder = Encryption()\n",
    "coder.encrypt(X, SEED)\n",
    "\n",
    "X_encr = coder.X_encr\n",
    "\n",
    "print('Размер матрицы признаков до и после шифрования:', \n",
    "      X.shape, X_encr.shape)\n",
    "\n",
    "coder.decrypt(X)\n",
    "\n",
    "X_decr = coder.X_decr\n",
    "\n",
    "print('Доля совпадений после дешифровки матрицы признаков:', \n",
    "      (X == X_decr.round(0).astype('int')).mean())"
   ]
  },
  {
   "cell_type": "markdown",
   "id": "31daa65f-0f2d-437f-aa41-f00e0b1d5c76",
   "metadata": {},
   "source": [
    "Можно видеть, что с помощью умножения матриц удается зашифровать и расшифровать имеющиееся данные. Однако при дешифровке приходится округлять данные до целых значений, т.к. при последовательном умножении матрицы признаков на $P$ и $P^{-1}$ данные в точности не совпадают. По-видимому, это связано с приближенными вычислениями матричного умножения и обратной матрицы."
   ]
  },
  {
   "cell_type": "markdown",
   "id": "8a418f9c-176a-4ed1-85ef-e8106ef98148",
   "metadata": {},
   "source": [
    "## Проверка алгоритма"
   ]
  },
  {
   "cell_type": "markdown",
   "id": "8a1af8a4-722f-4b6b-8a93-95a3deebf025",
   "metadata": {},
   "source": [
    "Определим коэффициенты линейной регрессии и величину метрики $R^2$ на исходных данных."
   ]
  },
  {
   "cell_type": "code",
   "execution_count": 7,
   "id": "3218fa39-8484-46b8-b4e1-187dd119452a",
   "metadata": {
    "scrolled": true
   },
   "outputs": [
    {
     "name": "stdout",
     "output_type": "stream",
     "text": [
      "Величина R2-score на исходных данных: 0.42494550308169177\n",
      "\n",
      "Величины коэффициентов линейной регрессии на исходных данных\n"
     ]
    },
    {
     "data": {
      "text/html": [
       "<div>\n",
       "<style scoped>\n",
       "    .dataframe tbody tr th:only-of-type {\n",
       "        vertical-align: middle;\n",
       "    }\n",
       "\n",
       "    .dataframe tbody tr th {\n",
       "        vertical-align: top;\n",
       "    }\n",
       "\n",
       "    .dataframe thead th {\n",
       "        text-align: right;\n",
       "    }\n",
       "</style>\n",
       "<table border=\"1\" class=\"dataframe\">\n",
       "  <thead>\n",
       "    <tr style=\"text-align: right;\">\n",
       "      <th></th>\n",
       "      <th>Значение</th>\n",
       "    </tr>\n",
       "  </thead>\n",
       "  <tbody>\n",
       "    <tr>\n",
       "      <th>Смещение</th>\n",
       "      <td>-0.938</td>\n",
       "    </tr>\n",
       "    <tr>\n",
       "      <th>Пол</th>\n",
       "      <td>0.008</td>\n",
       "    </tr>\n",
       "    <tr>\n",
       "      <th>Возраст</th>\n",
       "      <td>0.036</td>\n",
       "    </tr>\n",
       "    <tr>\n",
       "      <th>Зарплата</th>\n",
       "      <td>-0.000</td>\n",
       "    </tr>\n",
       "    <tr>\n",
       "      <th>Члены семьи</th>\n",
       "      <td>-0.014</td>\n",
       "    </tr>\n",
       "  </tbody>\n",
       "</table>\n",
       "</div>"
      ],
      "text/plain": [
       "             Значение\n",
       "Смещение       -0.938\n",
       "Пол             0.008\n",
       "Возраст         0.036\n",
       "Зарплата       -0.000\n",
       "Члены семьи    -0.014"
      ]
     },
     "execution_count": 7,
     "metadata": {},
     "output_type": "execute_result"
    }
   ],
   "source": [
    "# fit_intercept=False, т.к. смещение является нулевым столбцом в матрице признаков\n",
    "lr_0 = LinearRegression(fit_intercept=False)\n",
    "\n",
    "lr_0.fit(X, y)\n",
    "y_pred = lr_0.predict(X)\n",
    "\n",
    "print('Величина R2-score на исходных данных:', r2_score(y, y_pred))\n",
    "print('')\n",
    "print('Величины коэффициентов линейной регрессии на исходных данных')\n",
    "pd.DataFrame(lr_0.coef_.round(3), index=['Смещение'] + df.columns[:-1].to_list(), columns=['Значение'])"
   ]
  },
  {
   "cell_type": "markdown",
   "id": "b5405bfd-470d-4e6f-b198-2970cf074760",
   "metadata": {},
   "source": [
    "Определим коэффициенты линейной регрессии и величину метрики  $R^2$  на зашифрованных данных."
   ]
  },
  {
   "cell_type": "code",
   "execution_count": 8,
   "id": "9d2f143e-2803-4b8f-813b-857de2cbd043",
   "metadata": {},
   "outputs": [
    {
     "name": "stdout",
     "output_type": "stream",
     "text": [
      "Величина R2-score на зашифрованных данных: 0.42494550308309453\n",
      "\n",
      "Величины коэффициентов линейной регрессии на зашифрованных данных\n"
     ]
    },
    {
     "data": {
      "text/html": [
       "<div>\n",
       "<style scoped>\n",
       "    .dataframe tbody tr th:only-of-type {\n",
       "        vertical-align: middle;\n",
       "    }\n",
       "\n",
       "    .dataframe tbody tr th {\n",
       "        vertical-align: top;\n",
       "    }\n",
       "\n",
       "    .dataframe thead th {\n",
       "        text-align: right;\n",
       "    }\n",
       "</style>\n",
       "<table border=\"1\" class=\"dataframe\">\n",
       "  <thead>\n",
       "    <tr style=\"text-align: right;\">\n",
       "      <th></th>\n",
       "      <th>Значение</th>\n",
       "      <th>После дешифровки</th>\n",
       "    </tr>\n",
       "  </thead>\n",
       "  <tbody>\n",
       "    <tr>\n",
       "      <th>Смещение</th>\n",
       "      <td>-0.877</td>\n",
       "      <td>-0.938</td>\n",
       "    </tr>\n",
       "    <tr>\n",
       "      <th>Пол</th>\n",
       "      <td>-4.115</td>\n",
       "      <td>0.008</td>\n",
       "    </tr>\n",
       "    <tr>\n",
       "      <th>Возраст</th>\n",
       "      <td>-2.217</td>\n",
       "      <td>0.036</td>\n",
       "    </tr>\n",
       "    <tr>\n",
       "      <th>Зарплата</th>\n",
       "      <td>1.557</td>\n",
       "      <td>-0.000</td>\n",
       "    </tr>\n",
       "    <tr>\n",
       "      <th>Члены семьи</th>\n",
       "      <td>-0.578</td>\n",
       "      <td>-0.014</td>\n",
       "    </tr>\n",
       "  </tbody>\n",
       "</table>\n",
       "</div>"
      ],
      "text/plain": [
       "             Значение  После дешифровки\n",
       "Смещение       -0.877            -0.938\n",
       "Пол            -4.115             0.008\n",
       "Возраст        -2.217             0.036\n",
       "Зарплата        1.557            -0.000\n",
       "Члены семьи    -0.578            -0.014"
      ]
     },
     "execution_count": 8,
     "metadata": {},
     "output_type": "execute_result"
    }
   ],
   "source": [
    "lr_1 = LinearRegression(fit_intercept=False)\n",
    "\n",
    "lr_1.fit(X_encr, y)\n",
    "y_encr_pred = lr_1.predict(X_encr)\n",
    "\n",
    "print('Величина R2-score на зашифрованных данных:', r2_score(y, y_encr_pred))\n",
    "print('')\n",
    "print('Величины коэффициентов линейной регрессии на зашифрованных данных')\n",
    "pd.DataFrame(data={'Значение': (lr_1.coef_).round(3), \n",
    "                   'После дешифровки': (coder.P @ lr_1.coef_).round(3)}, \n",
    "             index=['Смещение'] + df.columns[:-1].to_list())"
   ]
  },
  {
   "cell_type": "markdown",
   "id": "489432a0-6d88-40d8-93ef-06bcd63b6e0b",
   "metadata": {},
   "source": [
    "Можно видеть, что величины R2-score на исходных и зашифрованных данных совпадают, а величины коэффициентов, как и ожидалось отличаются, но их можно дешифровать с помощью кодирующей матрицы. "
   ]
  },
  {
   "cell_type": "markdown",
   "id": "3302d548-5260-49e1-9da2-4dcf16f9fafa",
   "metadata": {},
   "source": [
    "Сравним величины предсказанных значений на исходных данных и на данных после шифрования."
   ]
  },
  {
   "cell_type": "code",
   "execution_count": 9,
   "id": "250252f4-796c-4388-853f-aa276e4349ae",
   "metadata": {
    "scrolled": true
   },
   "outputs": [
    {
     "name": "stdout",
     "output_type": "stream",
     "text": [
      "Доля совпадающих предсказанных значений до и после шифрования: 1.0\n"
     ]
    }
   ],
   "source": [
    "print('Доля совпадающих предсказанных значений до и после шифрования:',\n",
    "(y_pred.round(0).astype('int') == \n",
    "(y_encr_pred).round(0).astype('int')).mean())"
   ]
  },
  {
   "cell_type": "markdown",
   "id": "23dcbc59-5044-4323-a6ba-2118b2df79a4",
   "metadata": {},
   "source": [
    "## Выводы\n",
    "- с  помощью матричного умножения удается зашифровать данные для последующего использования в модели линейной регрессии, а также расшифровать их\n",
    "- метрики моделей $R^2$ на исходных и зашифрованных данных практически совпадают. Это говрит о том, что защита личных данных не ухудшает качества модели\n",
    "- расхожения в величинах найденных метрик и данных после операции шифрование-дешифровка можно связать с применяемыми приближениями в матричном умножении и в нахождении обратной матрицы"
   ]
  }
 ],
 "metadata": {
  "ExecuteTimeLog": [
   {
    "duration": 1644,
    "start_time": "2022-07-14T11:59:04.646Z"
   },
   {
    "duration": 3,
    "start_time": "2022-07-14T11:59:06.296Z"
   },
   {
    "duration": 62,
    "start_time": "2022-07-14T11:59:06.301Z"
   },
   {
    "duration": 5,
    "start_time": "2022-07-14T11:59:06.365Z"
   },
   {
    "duration": 6,
    "start_time": "2022-07-14T11:59:06.372Z"
   },
   {
    "duration": 35189,
    "start_time": "2022-07-14T11:59:06.380Z"
   },
   {
    "duration": 180,
    "start_time": "2022-07-14T11:59:41.575Z"
   },
   {
    "duration": 193,
    "start_time": "2022-07-14T11:59:41.763Z"
   },
   {
    "duration": 43,
    "start_time": "2022-07-14T11:59:41.958Z"
   },
   {
    "duration": 1600,
    "start_time": "2022-07-14T12:21:27.570Z"
   },
   {
    "duration": 4,
    "start_time": "2022-07-14T12:21:29.172Z"
   },
   {
    "duration": 45,
    "start_time": "2022-07-14T12:21:29.177Z"
   },
   {
    "duration": 4,
    "start_time": "2022-07-14T12:21:29.224Z"
   },
   {
    "duration": 7,
    "start_time": "2022-07-14T12:21:29.231Z"
   },
   {
    "duration": 31032,
    "start_time": "2022-07-14T12:21:29.240Z"
   },
   {
    "duration": 100,
    "start_time": "2022-07-14T12:22:00.277Z"
   },
   {
    "duration": 278,
    "start_time": "2022-07-14T12:22:00.378Z"
   },
   {
    "duration": 101,
    "start_time": "2022-07-14T12:22:00.664Z"
   },
   {
    "duration": 4,
    "start_time": "2022-07-14T12:23:24.292Z"
   },
   {
    "duration": 5,
    "start_time": "2022-07-14T12:23:28.716Z"
   },
   {
    "duration": 806,
    "start_time": "2022-07-14T12:24:04.278Z"
   },
   {
    "duration": 3,
    "start_time": "2022-07-14T12:24:56.880Z"
   },
   {
    "duration": 6,
    "start_time": "2022-07-14T12:24:58.695Z"
   },
   {
    "duration": 732,
    "start_time": "2022-07-14T12:24:59.528Z"
   },
   {
    "duration": 1328,
    "start_time": "2022-07-14T19:11:14.319Z"
   },
   {
    "duration": 2,
    "start_time": "2022-07-14T19:11:15.649Z"
   },
   {
    "duration": 102,
    "start_time": "2022-07-14T19:11:15.652Z"
   },
   {
    "duration": 3,
    "start_time": "2022-07-14T19:11:17.108Z"
   },
   {
    "duration": 3,
    "start_time": "2022-07-14T19:11:17.260Z"
   },
   {
    "duration": 5,
    "start_time": "2022-07-14T19:11:17.603Z"
   },
   {
    "duration": 745,
    "start_time": "2022-07-14T19:11:17.955Z"
   },
   {
    "duration": 91,
    "start_time": "2022-07-14T19:11:18.861Z"
   },
   {
    "duration": 3,
    "start_time": "2022-07-14T19:11:46.722Z"
   },
   {
    "duration": 4,
    "start_time": "2022-07-14T19:11:47.147Z"
   },
   {
    "duration": 120,
    "start_time": "2022-07-14T19:11:47.876Z"
   },
   {
    "duration": 29718,
    "start_time": "2022-07-14T19:11:52.947Z"
   },
   {
    "duration": 101,
    "start_time": "2022-07-14T19:12:22.753Z"
   },
   {
    "duration": 107,
    "start_time": "2022-07-14T19:12:22.855Z"
   },
   {
    "duration": 188,
    "start_time": "2022-07-14T19:12:22.965Z"
   },
   {
    "duration": 9,
    "start_time": "2022-07-14T19:12:37.579Z"
   },
   {
    "duration": 2,
    "start_time": "2022-07-14T19:12:50.628Z"
   },
   {
    "duration": 2,
    "start_time": "2022-07-14T19:12:56.508Z"
   },
   {
    "duration": 660,
    "start_time": "2022-07-14T19:13:17.115Z"
   },
   {
    "duration": 4,
    "start_time": "2022-07-14T19:13:26.379Z"
   },
   {
    "duration": 4,
    "start_time": "2022-07-14T19:13:33.659Z"
   },
   {
    "duration": 670,
    "start_time": "2022-07-14T19:14:01.370Z"
   },
   {
    "duration": 663,
    "start_time": "2022-07-14T19:14:05.170Z"
   },
   {
    "duration": 5,
    "start_time": "2022-07-14T19:14:48.354Z"
   },
   {
    "duration": 4,
    "start_time": "2022-07-14T19:14:52.937Z"
   },
   {
    "duration": 4,
    "start_time": "2022-07-14T19:14:57.890Z"
   },
   {
    "duration": 3,
    "start_time": "2022-07-14T19:15:02.097Z"
   },
   {
    "duration": 17,
    "start_time": "2022-07-14T19:15:29.106Z"
   },
   {
    "duration": 4,
    "start_time": "2022-07-14T19:15:46.650Z"
   },
   {
    "duration": 6,
    "start_time": "2022-07-14T19:15:46.899Z"
   },
   {
    "duration": 1105,
    "start_time": "2022-07-15T10:49:50.386Z"
   },
   {
    "duration": 3,
    "start_time": "2022-07-15T10:49:51.493Z"
   },
   {
    "duration": 136,
    "start_time": "2022-07-15T10:49:51.498Z"
   },
   {
    "duration": 4,
    "start_time": "2022-07-15T10:49:51.636Z"
   },
   {
    "duration": 11,
    "start_time": "2022-07-15T10:49:51.642Z"
   },
   {
    "duration": 11,
    "start_time": "2022-07-15T10:49:51.655Z"
   },
   {
    "duration": 198,
    "start_time": "2022-07-15T10:49:51.667Z"
   },
   {
    "duration": 101,
    "start_time": "2022-07-15T10:49:51.868Z"
   },
   {
    "duration": 125,
    "start_time": "2022-07-15T10:49:51.971Z"
   },
   {
    "duration": 1095,
    "start_time": "2022-07-15T10:55:36.085Z"
   },
   {
    "duration": 3,
    "start_time": "2022-07-15T10:55:37.182Z"
   },
   {
    "duration": 74,
    "start_time": "2022-07-15T10:55:37.187Z"
   },
   {
    "duration": 6,
    "start_time": "2022-07-15T10:55:37.264Z"
   },
   {
    "duration": 15,
    "start_time": "2022-07-15T10:55:37.272Z"
   },
   {
    "duration": 8,
    "start_time": "2022-07-15T10:55:37.288Z"
   },
   {
    "duration": 180,
    "start_time": "2022-07-15T10:55:37.298Z"
   },
   {
    "duration": 283,
    "start_time": "2022-07-15T10:55:37.481Z"
   },
   {
    "duration": 6,
    "start_time": "2022-07-15T10:55:37.767Z"
   },
   {
    "duration": 1118,
    "start_time": "2022-07-15T10:57:02.520Z"
   },
   {
    "duration": 3,
    "start_time": "2022-07-15T10:57:03.639Z"
   },
   {
    "duration": 87,
    "start_time": "2022-07-15T10:57:03.643Z"
   },
   {
    "duration": 4,
    "start_time": "2022-07-15T10:57:03.731Z"
   },
   {
    "duration": 10,
    "start_time": "2022-07-15T10:57:03.737Z"
   },
   {
    "duration": 17,
    "start_time": "2022-07-15T10:57:03.748Z"
   },
   {
    "duration": 212,
    "start_time": "2022-07-15T10:57:03.767Z"
   },
   {
    "duration": 91,
    "start_time": "2022-07-15T10:57:03.980Z"
   },
   {
    "duration": 112,
    "start_time": "2022-07-15T10:57:04.074Z"
   },
   {
    "duration": 1181,
    "start_time": "2022-07-15T10:58:21.776Z"
   },
   {
    "duration": 3,
    "start_time": "2022-07-15T10:58:22.958Z"
   },
   {
    "duration": 88,
    "start_time": "2022-07-15T10:58:22.962Z"
   },
   {
    "duration": 4,
    "start_time": "2022-07-15T10:58:23.052Z"
   },
   {
    "duration": 22,
    "start_time": "2022-07-15T10:58:23.058Z"
   },
   {
    "duration": 10,
    "start_time": "2022-07-15T10:58:23.082Z"
   },
   {
    "duration": 174,
    "start_time": "2022-07-15T10:58:23.094Z"
   },
   {
    "duration": 196,
    "start_time": "2022-07-15T10:58:23.270Z"
   },
   {
    "duration": 99,
    "start_time": "2022-07-15T10:58:23.468Z"
   },
   {
    "duration": 1114,
    "start_time": "2022-07-15T10:58:58.999Z"
   },
   {
    "duration": 2,
    "start_time": "2022-07-15T10:59:00.115Z"
   },
   {
    "duration": 80,
    "start_time": "2022-07-15T10:59:00.119Z"
   },
   {
    "duration": 4,
    "start_time": "2022-07-15T10:59:00.202Z"
   },
   {
    "duration": 8,
    "start_time": "2022-07-15T10:59:00.208Z"
   },
   {
    "duration": 47,
    "start_time": "2022-07-15T10:59:00.218Z"
   },
   {
    "duration": 106,
    "start_time": "2022-07-15T10:59:00.268Z"
   },
   {
    "duration": 93,
    "start_time": "2022-07-15T10:59:00.377Z"
   },
   {
    "duration": 112,
    "start_time": "2022-07-15T10:59:00.472Z"
   },
   {
    "duration": 1092,
    "start_time": "2022-07-15T10:59:52.923Z"
   },
   {
    "duration": 2,
    "start_time": "2022-07-15T10:59:54.017Z"
   },
   {
    "duration": 87,
    "start_time": "2022-07-15T10:59:54.020Z"
   },
   {
    "duration": 4,
    "start_time": "2022-07-15T10:59:54.109Z"
   },
   {
    "duration": 15,
    "start_time": "2022-07-15T10:59:54.115Z"
   },
   {
    "duration": 32,
    "start_time": "2022-07-15T10:59:54.132Z"
   },
   {
    "duration": 215,
    "start_time": "2022-07-15T10:59:54.166Z"
   },
   {
    "duration": 280,
    "start_time": "2022-07-15T10:59:54.385Z"
   },
   {
    "duration": 18,
    "start_time": "2022-07-15T10:59:54.668Z"
   }
  ],
  "colab": {
   "name": "Welcome to DataCamp Workspaces.ipynb",
   "provenance": []
  },
  "kernelspec": {
   "display_name": "Python 3 (ipykernel)",
   "language": "python",
   "name": "python3"
  },
  "language_info": {
   "codemirror_mode": {
    "name": "ipython",
    "version": 3
   },
   "file_extension": ".py",
   "mimetype": "text/x-python",
   "name": "python",
   "nbconvert_exporter": "python",
   "pygments_lexer": "ipython3",
   "version": "3.9.12"
  },
  "toc": {
   "base_numbering": 1,
   "nav_menu": {},
   "number_sections": true,
   "sideBar": true,
   "skip_h1_title": true,
   "title_cell": "Table of Contents",
   "title_sidebar": "Contents",
   "toc_cell": false,
   "toc_position": {},
   "toc_section_display": true,
   "toc_window_display": false
  }
 },
 "nbformat": 4,
 "nbformat_minor": 5
}
